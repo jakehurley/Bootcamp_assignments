{
 "cells": [
  {
   "cell_type": "code",
   "execution_count": 30,
   "metadata": {},
   "outputs": [
    {
     "name": "stdout",
     "output_type": "stream",
     "text": [
      "You rolled a 2\n",
      "You rolled a 6\n",
      "You rolled a 1\n",
      "You rolled a 5\n"
     ]
    }
   ],
   "source": [
    "import random\n",
    "#create function to randomly generate a random integer in a given range\n",
    "def rolldice():\n",
    "    min_number = 1\n",
    "    max_number = 6\n",
    "    return random.randint(min_number, max_number)\n",
    "\n",
    "#loop allowing user to select if they would like to roll or not, if yes, prints the number rolled\n",
    "while True:\n",
    "    user_choice = input('Roll the dice?').lower()\n",
    "    if user_choice == 'yes':\n",
    "        result = rolldice()\n",
    "        print(f'You rolled a {result}')\n",
    "\n",
    "    elif user_choice == 'no':\n",
    "        break\n",
    "\n",
    "    else:\n",
    "        print('Please enter yes or no')"
   ]
  },
  {
   "cell_type": "code",
   "execution_count": null,
   "metadata": {},
   "outputs": [],
   "source": []
  }
 ],
 "metadata": {
  "kernelspec": {
   "display_name": "Python 3",
   "language": "python",
   "name": "python3"
  },
  "language_info": {
   "codemirror_mode": {
    "name": "ipython",
    "version": 3
   },
   "file_extension": ".py",
   "mimetype": "text/x-python",
   "name": "python",
   "nbconvert_exporter": "python",
   "pygments_lexer": "ipython3",
   "version": "3.11.3"
  },
  "orig_nbformat": 4
 },
 "nbformat": 4,
 "nbformat_minor": 2
}
