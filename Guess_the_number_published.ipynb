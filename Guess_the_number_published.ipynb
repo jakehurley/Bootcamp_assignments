{
 "cells": [
  {
   "cell_type": "code",
   "execution_count": 1,
   "metadata": {},
   "outputs": [
    {
     "name": "stdout",
     "output_type": "stream",
     "text": [
      "Too high\n",
      "Too high\n",
      "Too high\n",
      "You guessed correctly\n"
     ]
    }
   ],
   "source": [
    "#create function to determine if a value is an integer\n",
    "def is_integer(number):\n",
    "   try:\n",
    "      int(number) \n",
    "      return True\n",
    "   except:\n",
    "      return False \n",
    "#function only returns true when an integer is input   \n",
    "\n",
    "#while loop to first take input for max range and ensure the user enters an integer\n",
    "while True:\n",
    "   user_input= input('Enter an integer to be the maximum in your range')\n",
    "   if is_integer(user_input) == True:\n",
    "         max_integer = int(user_input)\n",
    "         break\n",
    "   elif is_integer(user_input) == False:\n",
    "         print('Please enter an integer') \n",
    "\n",
    "min_integer = 0\n",
    "import random\n",
    "random_number = random.randint(min_integer,max_integer) #generates random number to be guessed\n",
    "    \n",
    "while True:\n",
    "#while loop until user guesses correctly   \n",
    "   while True:\n",
    "   #while loop feeding back if guess is outside inputted range   \n",
    "      while True:\n",
    "      #while loop to receive user guess and determine if it is an integer   \n",
    "         guess = input('Enter a guess for the integer')\n",
    "         if is_integer(guess) == True:\n",
    "            int_guess = int(guess)\n",
    "            break\n",
    "         elif is_integer(guess) == False:\n",
    "            print('Please enter and integer')\n",
    "      if int_guess > max_integer:\n",
    "         print('You enter a value not in the guessing range')\n",
    "      else:\n",
    "         break          \n",
    "   if random_number > int_guess:\n",
    "      print('Too low')\n",
    "   elif random_number < int_guess:\n",
    "      print('Too high')\n",
    "   else:\n",
    "      print('You guessed correctly')\n",
    "      break\n",
    "\n",
    "\n",
    "\n",
    "\n",
    "\n",
    "\n",
    "      \n",
    "\n",
    "\n",
    "       \n",
    "\n",
    "\n",
    "\n",
    "\n",
    "\n",
    "  \n"
   ]
  },
  {
   "cell_type": "code",
   "execution_count": null,
   "metadata": {},
   "outputs": [],
   "source": []
  },
  {
   "cell_type": "code",
   "execution_count": null,
   "metadata": {},
   "outputs": [],
   "source": []
  }
 ],
 "metadata": {
  "kernelspec": {
   "display_name": "Python 3",
   "language": "python",
   "name": "python3"
  },
  "language_info": {
   "codemirror_mode": {
    "name": "ipython",
    "version": 3
   },
   "file_extension": ".py",
   "mimetype": "text/x-python",
   "name": "python",
   "nbconvert_exporter": "python",
   "pygments_lexer": "ipython3",
   "version": "3.11.3"
  },
  "orig_nbformat": 4
 },
 "nbformat": 4,
 "nbformat_minor": 2
}
